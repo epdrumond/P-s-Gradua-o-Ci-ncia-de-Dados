{
 "cells": [
  {
   "cell_type": "markdown",
   "id": "bff7e95c",
   "metadata": {},
   "source": [
    "# 1. Introdução"
   ]
  },
  {
   "cell_type": "code",
   "execution_count": null,
   "id": "f114e1d3",
   "metadata": {},
   "outputs": [],
   "source": [
    "#Importar bibliotecas\n",
    "import pandas as pd\n",
    "import numpy as np\n",
    "from scipy import stats\n",
    "\n",
    "import plotly.graph_objects as go\n",
    "from plotly.subplots import make_subplots\n",
    "\n",
    "from sklearn.preprocessing import StandardScaler"
   ]
  },
  {
   "cell_type": "code",
   "execution_count": null,
   "id": "11b99e98",
   "metadata": {},
   "outputs": [],
   "source": [
    "#Carregar dados\n",
    "base = pd.read_csv('base_final.csv')\n",
    "base.head()"
   ]
  },
  {
   "cell_type": "markdown",
   "id": "2d1271c1",
   "metadata": {},
   "source": [
    "# 2. Explorar Dados"
   ]
  },
  {
   "cell_type": "code",
   "execution_count": null,
   "id": "90ddcd24",
   "metadata": {},
   "outputs": [],
   "source": [
    "#Separar atributos em categóricas e numéricas\n",
    "colunas_categoricas = [col for col, idx in zip(base.dtypes.index, base.dtypes) if idx == 'object']\n",
    "colunas_numericas = [col for col, idx in zip(base.dtypes.index, base.dtypes) if idx != 'object']\n",
    "\n",
    "colunas_categoricas = [col for col in colunas_categoricas if 'data' not in col]\n",
    "colunas_numericas.remove('id_usuario')"
   ]
  },
  {
   "cell_type": "markdown",
   "id": "f048cb75",
   "metadata": {},
   "source": [
    "## 2.1. Dados Categóricos"
   ]
  },
  {
   "cell_type": "code",
   "execution_count": null,
   "id": "d70046e2",
   "metadata": {},
   "outputs": [],
   "source": [
    "base['grupo_transacao_1'].value_counts()"
   ]
  },
  {
   "cell_type": "code",
   "execution_count": null,
   "id": "3a2f5a89",
   "metadata": {},
   "outputs": [],
   "source": [
    "base_grafico = base.groupby(by = 'grupo_transacao_2').agg({'id_usuario': 'count'})\n",
    "fig = go.Figure([go.Bar(x = base_grafico.index, y = base_grafico['id_usuario'])])\n",
    "fig.update_layout(title = 'Distribuição do Atributo grupo_transacao_1', template = 'plotly_white')\n",
    "fig.show()"
   ]
  },
  {
   "cell_type": "code",
   "execution_count": null,
   "id": "77d230e2",
   "metadata": {},
   "outputs": [],
   "source": [
    "#grupo_transacao_1 e grupo_transacao_2\n",
    "fig = make_subplots(rows = 1, cols = 2, subplot_titles = ('Primeira Transação', 'Segunda Transação'), shared_yaxes = True)\n",
    "\n",
    "for i, col in enumerate(['grupo_transacao_1', 'grupo_transacao_2']):\n",
    "    base_grafico = base.groupby(by = col).agg({'id_usuario': 'count'})\n",
    "    fig.append_trace(go.Bar(x = base_grafico.index, y = base_grafico['id_usuario'], name = col), row = 1, col = i+1)\n",
    "\n",
    "fig.update_layout(title = 'Distribuição de Grupo Transação', template = 'plotly_white', showlegend = False)\n",
    "fig.show()"
   ]
  },
  {
   "cell_type": "markdown",
   "id": "b8c57626",
   "metadata": {},
   "source": [
    "A primeira transação, de forma geral, é um cashin, ou em outras palavras, uma inclusão de fundos na conta. Por algum motivo, temos ainda uma pequena parcela de primeiras transações sendo cashouts, ou gastos/compras. Conhecendo os dados, esses casos provavelmente são resultado de algum problema no processamento da finalização da transação inicial de cashin. Antes de decidir que medida tomar em relação aos dados, vamos investigar como eles se relacionam com nosso target.\n",
    "\n",
    "Para a segunda transação, temos uma concentração em cashout, ainda que não tão grande quanto o que acontece na primeira."
   ]
  },
  {
   "cell_type": "code",
   "execution_count": null,
   "id": "23dd7154",
   "metadata": {},
   "outputs": [],
   "source": [
    "#tipo_transacao_anonimo_1\n",
    "base_grafico = base['tipo_transacao_anonimo_1'].value_counts().sort_values()\n",
    "fig = go.Figure([go.Bar(y = base_grafico.index, x = base_grafico.values, orientation = 'h')])\n",
    "\n",
    "fig.update_layout(title = 'Principais Métodos de Primeira Transação', template = 'plotly_white')\n",
    "fig.show()"
   ]
  },
  {
   "cell_type": "markdown",
   "id": "651fc39d",
   "metadata": {},
   "source": [
    "O que vemos é uma concentração da primeira transação em 2 métodos de cashin. Isso nos dá a possibilidade de agrupar as demais categorias em um único super-grupo."
   ]
  },
  {
   "cell_type": "code",
   "execution_count": null,
   "id": "f0613454",
   "metadata": {},
   "outputs": [],
   "source": [
    "#tipo_transacao_anonimo_2\n",
    "base_grafico = base['tipo_transacao_anonimo_2'].value_counts().sort_values()\n",
    "fig = go.Figure([go.Bar(y = base_grafico.index, x = base_grafico.values, orientation = 'h')])\n",
    "\n",
    "fig.update_layout(title = 'Principais Métodos de Segunda Transação', template = 'plotly_white')\n",
    "fig.show()"
   ]
  },
  {
   "cell_type": "markdown",
   "id": "d3858732",
   "metadata": {},
   "source": [
    "Ainda que tenhamos certa concentração em 3 métodos de transação, a distribuição é bem melhor do que para a primeira transação."
   ]
  },
  {
   "cell_type": "code",
   "execution_count": null,
   "id": "2ab4700b",
   "metadata": {},
   "outputs": [],
   "source": [
    "#estado_anonimo\n",
    "base_grafico = base['estado_anonimo'].value_counts().sort_values()\n",
    "fig = go.Figure([go.Bar(y = base_grafico.index, x = base_grafico.values, orientation = 'h')])\n",
    "\n",
    "fig.update_layout(title = 'Distribuição dos Usuários Pelos Estados do País', template = 'plotly_white')\n",
    "fig.show()"
   ]
  },
  {
   "cell_type": "markdown",
   "id": "47dfd673",
   "metadata": {},
   "source": [
    "A concentração de grande parte dos usuários em poucas categorias também acontece aqui. No entanto, um agrupamento de categorias tem que ser avaliado com muito cuidado, especialmente pois temos muitas categorias que estão mascarados para efeito de segurança."
   ]
  },
  {
   "cell_type": "code",
   "execution_count": null,
   "id": "7b12eeba",
   "metadata": {},
   "outputs": [],
   "source": [
    "#faixa_idade\n",
    "base_grafico = base['faixa_idade'].value_counts().sort_index(ascending = False)\n",
    "fig = go.Figure([go.Bar(y = base_grafico.index, x = base_grafico.values, orientation = 'h')])\n",
    "\n",
    "fig.update_layout(title = 'Distribuição Por Idade do Usuários', template = 'plotly_white')\n",
    "fig.show()"
   ]
  },
  {
   "cell_type": "markdown",
   "id": "1696d7af",
   "metadata": {},
   "source": [
    "A gráfico de idade, considerando que as faixas criadas apresentam idades em uma sequência lógica, mostram uma distribuição bem equilibrada, sem uma concentração muito grande em qualquer segmento. "
   ]
  },
  {
   "cell_type": "code",
   "execution_count": null,
   "id": "ea960437",
   "metadata": {},
   "outputs": [],
   "source": [
    "#genero\n",
    "base_grafico = base['genero'].value_counts().sort_values()\n",
    "fig = go.Figure([go.Bar(x = base_grafico.index, y = base_grafico.values)])\n",
    "\n",
    "fig.update_layout(title = 'Distribuição dos Usuários Por Gênero', template = 'plotly_white')\n",
    "fig.show()"
   ]
  },
  {
   "cell_type": "markdown",
   "id": "959f567f",
   "metadata": {},
   "source": [
    "Quanto à distribuição por gênero, não temos nenhuma categoria com uma concentração alta demais."
   ]
  },
  {
   "cell_type": "markdown",
   "id": "54bb5bfc",
   "metadata": {},
   "source": [
    "## 2.2. Dados Numéricos"
   ]
  },
  {
   "cell_type": "code",
   "execution_count": null,
   "id": "87cf1ffd",
   "metadata": {},
   "outputs": [],
   "source": [
    "fig = make_subplots(rows = 1, cols = 2)\n",
    "fig.append_trace(go.Histogram(x = base['valor_1'], nbinsx = 100), row = 1, col = 1)\n",
    "fig.append_trace(go.Histogram(x = base['valor_2'], nbinsx = 150), row = 1, col = 2)\n",
    "\n",
    "fig.update_yaxes(title = 'Usuários', showgrid = False, range = [0, 150000], tickformat = '.,', ticksuffix = '   ',\n",
    "                 row = 1, col = 1)\n",
    "fig.update_yaxes(showgrid = False, range = [0, 60000], tickformat = '###,###', ticksuffix = '   ', \n",
    "                 row = 1, col = 2)\n",
    "#fig.update_xaxes(title = 'Valor 1', range = [0, 600], row = 1, col = 1)\n",
    "#fig.update_xaxes(title = 'Valor 2', range = [0, 600], row = 1, col = 2)\n",
    "fig.update_layout(template = 'plotly_white', showlegend = False, xaxis = {'range': [0, 2000]}, \n",
    "                  font = {'family': 'Arial', 'color': '#7c7c7d', 'size': 16})\n",
    "fig.show()"
   ]
  },
  {
   "cell_type": "code",
   "execution_count": null,
   "id": "8cbe5333",
   "metadata": {},
   "outputs": [],
   "source": [
    "fig = make_subplots(rows = 1, cols = 2)\n",
    "fig.append_trace(go.Histogram(x = stats.boxcox(base['valor_1'])[0], nbinsx = 250), row = 1, col = 1)\n",
    "fig.append_trace(go.Histogram(x = stats.boxcox(base['valor_2'])[0], nbinsx = 250), row = 1, col = 2)\n",
    "\n",
    "fig.update_yaxes(title = 'Usuários', showgrid = False, tickformat = '###.###', ticksuffix = '   ', row = 1, col = 1)\n",
    "fig.update_yaxes(showgrid = False, tickformat = '###.###', ticksuffix = '   ', row = 1, col = 2)\n",
    "fig.update_xaxes(title = 'Valor 1', row = 1, col = 1)\n",
    "fig.update_xaxes(title = 'Valor 2', row = 1, col = 2)\n",
    "fig.update_layout(template = 'plotly_white', showlegend = False,  \n",
    "                  font = {'family': 'Arial', 'color': '#7c7c7d', 'size': 16})\n",
    "fig.show()"
   ]
  },
  {
   "cell_type": "markdown",
   "id": "e85f983f",
   "metadata": {},
   "source": [
    "O primeiro gráfico de distribuição dos valores mostra que temos uma grande concentração em valores baixos, com alguns valores muito altos. Temos, basicamente, campos bastante mal distribuídos. Isso pode ser visto de outra forma, comparando os valores médio e mediano para os campos."
   ]
  },
  {
   "cell_type": "code",
   "execution_count": null,
   "id": "936186f6",
   "metadata": {},
   "outputs": [],
   "source": [
    "#Printar média e mediana do valor das transações\n",
    "print('Valor Primeira Transação: Média = {:.2f} / Mediana = {:.2f}'.format(base['valor_1'].mean(), base['valor_1'].median())) \n",
    "print('Valor Segunda Transação: Média = {:.2f} / Mediana = {:.2f}'.format(base['valor_2'].mean(), base['valor_2'].median())) "
   ]
  },
  {
   "cell_type": "markdown",
   "id": "2a0d9944",
   "metadata": {},
   "source": [
    "Com essa má distribuição dos dados, faz sentido avaliar uma remoção dos outliers, especialmente para a primeira transação"
   ]
  },
  {
   "cell_type": "code",
   "execution_count": null,
   "id": "f04c25fd",
   "metadata": {},
   "outputs": [],
   "source": [
    "#Calcular limiar para remoção de outliers\n",
    "valor_1_max = base['valor_1'].mean() + 3 * base['valor_1'].std()\n",
    "valor_2_max = base['valor_2'].mean() + 3 * base['valor_2'].std()\n",
    "\n",
    "base_aux = base[(base['valor_1'] < valor_1_max) & (base['valor_2'] < valor_2_max)]\n",
    "print('Seriam removidos, com os limites calculados, {:.2f}% dos registros,'.format(100 * (1 - len(base_aux) / len(base))))"
   ]
  },
  {
   "cell_type": "code",
   "execution_count": null,
   "id": "2b1090a8",
   "metadata": {},
   "outputs": [],
   "source": [
    "base = base[(base['valor_1'] < valor_1_max) & (base['valor_2'] < valor_2_max)]"
   ]
  },
  {
   "cell_type": "code",
   "execution_count": null,
   "id": "c26d957c",
   "metadata": {},
   "outputs": [],
   "source": [
    "fig = make_subplots(rows = 1, cols = 2)\n",
    "fig.append_trace(go.Histogram(x = base['dias_ate_primeira_transacao'], nbinsx = 150), row = 1, col = 1)\n",
    "fig.append_trace(go.Histogram(x = base['dias_entre_transacoes'], nbinsx = 150), row = 1, col = 2)\n",
    "\n",
    "fig.update_yaxes(title = 'Usuários', showgrid = False, tickformat = '###.###', ticksuffix = '   ', row = 1, col = 1)\n",
    "fig.update_yaxes(showgrid = False, tickformat = '###.###', ticksuffix = '   ', row = 1, col = 2)\n",
    "fig.update_xaxes(title = 'Dias Até Primeira Transação', row = 1, col = 1)\n",
    "fig.update_xaxes(title = 'Dias Entre Transações', row = 1, col = 2)\n",
    "fig.update_layout(template = 'plotly_white', showlegend = False,  \n",
    "                  font = {'family': 'Arial', 'color': '#7c7c7d', 'size': 16})\n",
    "fig.show()"
   ]
  },
  {
   "cell_type": "code",
   "execution_count": null,
   "id": "c78172bf",
   "metadata": {},
   "outputs": [],
   "source": [
    "#dias_ate_primeira_transacao\n",
    "fig = go.Figure([go.Histogram(x = base['dias_ate_primeira_transacao'], xbins = {'size': 1})])\n",
    "\n",
    "fig.update_layout(title = 'Dias Entre Criação da Conta e Primeira Transação', template = 'plotly_white')\n",
    "fig.show()"
   ]
  },
  {
   "cell_type": "markdown",
   "id": "381fdd3f",
   "metadata": {},
   "source": [
    "Temos mais uma vez um campo extremamente mal distribuído. Para resolver isso, vamos aplicar um agrupamento baseado no comportamento do produto."
   ]
  },
  {
   "cell_type": "code",
   "execution_count": null,
   "id": "b4fed4bf",
   "metadata": {},
   "outputs": [],
   "source": [
    "#Agrupar valores de dias_ate_primeira_transacao\n",
    "faixas = {\n",
    "    'A. 0 Dia': [-10, 0],\n",
    "    'B. 1 Dia': [1, 1],\n",
    "    'C. 2-7 Dias': [2, 7],\n",
    "    'D. 8-30 Dias': [8, 30],\n",
    "    'E. 31+ Dias': [31, 1000]}\n",
    "\n",
    "dias_tx = []\n",
    "for dias in base['dias_ate_primeira_transacao']:\n",
    "    if dias == dias:\n",
    "        for faixa, limites in faixas.items():\n",
    "            if dias >= limites[0] and dias <= limites[1]:\n",
    "                dias_tx.append(faixa)\n",
    "                break\n",
    "    else:\n",
    "        dias_tx.append(dias)\n",
    "\n",
    "base['faixa_dias_ate_primeira_transacao'] = dias_tx"
   ]
  },
  {
   "cell_type": "code",
   "execution_count": null,
   "id": "2da47620",
   "metadata": {},
   "outputs": [],
   "source": [
    "#Plotar distribuição de faixa_dias_ate_primeira_transacao\n",
    "base_grafico = base['faixa_dias_ate_primeira_transacao'].value_counts().sort_index()\n",
    "fig = go.Figure([go.Bar(x = base_grafico.index, y = base_grafico.values)])\n",
    "fig.update_layout(title = 'Distribuição Por Dias Até Primeira Transação', template = 'plotly_white')\n",
    "fig.show()"
   ]
  },
  {
   "cell_type": "markdown",
   "id": "da48c532",
   "metadata": {},
   "source": [
    "* A maior parte das primeiras transaçõesa acontece no mesmo dia que a criação conta;\n",
    "* Dos casos restantes, vemos um concentração maior nos últimos dois seguimentos."
   ]
  },
  {
   "cell_type": "code",
   "execution_count": null,
   "id": "b7bbec22",
   "metadata": {},
   "outputs": [],
   "source": [
    "#dias_entre_transacoes\n",
    "print('Percentual de registros nulos: {:.2f}%'.format(100 * base['dias_entre_transacoes'].isnull().sum() / len(base)))"
   ]
  },
  {
   "cell_type": "code",
   "execution_count": null,
   "id": "54b58edc",
   "metadata": {},
   "outputs": [],
   "source": [
    "#PLotar distribuição dos valores válidos de dias_entre_transacoes\n",
    "fig = go.Figure([go.Histogram(x = base['dias_entre_transacoes'])])\n",
    "fig.update_layout(title = 'Distribuição de Dias Entre Transações', template = 'plotly_white')\n",
    "fig.show()"
   ]
  },
  {
   "cell_type": "markdown",
   "id": "fcdaeead",
   "metadata": {},
   "source": [
    "A distribuição dos valores mostra uma forte concentração para o comportamento de realizar a segunda transação logo após a primeira. Para melhorar o comportamento do atributo, vamos agrupá-lo em faixas. "
   ]
  },
  {
   "cell_type": "code",
   "execution_count": null,
   "id": "b6958e35",
   "metadata": {},
   "outputs": [],
   "source": [
    "#Plotar nova distribuição de dias_entre_transacoes\n",
    "faixas = {\n",
    "    'A. 0 Dia': [-10, 0],\n",
    "    'B. 1-7 Dias': [1, 7],\n",
    "    'C. 8-30 Dias': [8, 30],\n",
    "    'D. 31-60 Dias': [31, 60],\n",
    "    'E. 61+ Dias': [31, 1000]}\n",
    "\n",
    "dias_tx = []\n",
    "for dias in base['dias_entre_transacoes']:\n",
    "    if dias == dias:\n",
    "        for faixa, limites in faixas.items():\n",
    "            if dias >= limites[0] and dias <= limites[1]:\n",
    "                dias_tx.append(faixa)\n",
    "                break\n",
    "    else:\n",
    "        dias_tx.append(dias)\n",
    "\n",
    "base['faixa_dias_entre_transacoes'] = dias_tx\n",
    "base_grafico = base[base['dias_entre_transacoes'].isnull() == False]['faixa_dias_entre_transacoes'].value_counts().sort_index()\n",
    "fig = go.Figure([go.Bar(x = base_grafico.index, y = base_grafico.values)])\n",
    "fig.update_layout(title = 'Distribuição de Dias Entre Transações', template = 'plotly_white')\n",
    "fig.show()"
   ]
  },
  {
   "cell_type": "code",
   "execution_count": null,
   "id": "9fc9b538",
   "metadata": {},
   "outputs": [],
   "source": [
    "fig = make_subplots(rows = 1, cols = 2)\n",
    "fig.append_trace(go.Histogram(x = base['dias_ate_primeira_transacao']), row = 1, col = 1)\n",
    "fig.append_trace(go.Histogram(x = base['dias_entre_transacoes']), row = 1, col = 2)\n",
    "\n",
    "fig.update_yaxes(title = 'Usuários', showgrid = False, tickformat = '###.###', ticksuffix = '   ', range = [0, 15000])\n",
    "fig.update_xaxes(title = 'dias_ate_primeira_transacao', row = 1, col = 1)\n",
    "fig.update_xaxes(title = 'dias_entre_transacoes', row = 1, col = 2)\n",
    "fig.update_layout(template = 'plotly_white', showlegend = False,  \n",
    "                  font = {'family': 'Arial', 'color': '#7c7c7d', 'size': 16})\n",
    "fig.show()"
   ]
  },
  {
   "cell_type": "code",
   "execution_count": null,
   "id": "f9212590",
   "metadata": {},
   "outputs": [],
   "source": [
    "fig = make_subplots(rows = 1, cols = 2)\n",
    "\n",
    "base_grafico = base[base['dias_ate_primeira_transacao'].isnull() == False]['faixa_dias_ate_primeira_transacao'].value_counts().sort_index()\n",
    "fig.append_trace(go.Bar(x = base_grafico.index, y = base_grafico.values), row = 1, col = 1)\n",
    "\n",
    "base_grafico = base[base['dias_entre_transacoes'].isnull() == False]['faixa_dias_entre_transacoes'].value_counts().sort_index()\n",
    "fig.append_trace(go.Bar(x = base_grafico.index, y = base_grafico.values), row = 1, col = 2)\n",
    "\n",
    "fig.update_yaxes(showgrid = False, tickformat = '###.###', ticksuffix = '   ')\n",
    "fig.update_xaxes(title = 'dias_ate_primeira_transacao', row = 1, col = 1)\n",
    "fig.update_xaxes(title = 'dias_entre_transacoes', row = 1, col = 2)\n",
    "fig.update_layout(template = 'plotly_white', showlegend = False,  \n",
    "                  font = {'family': 'Arial', 'color': '#7c7c7d', 'size': 15})\n",
    "fig.show()"
   ]
  },
  {
   "cell_type": "code",
   "execution_count": null,
   "id": "0d844cea",
   "metadata": {},
   "outputs": [],
   "source": [
    "#flag_capital_estado\n",
    "base_grafico = base['flag_capital_do_estado'].value_counts()\n",
    "fig = go.Figure([go.Bar(x = [str(val) for val in base_grafico.index], y = base_grafico.values)])\n",
    "fig.update_layout(title = 'Distribuição da flag_capital_estado', template = 'plotly_white')\n",
    "fig.show()"
   ]
  },
  {
   "cell_type": "markdown",
   "id": "9f5a7293",
   "metadata": {},
   "source": [
    "A distribuição da flag_capital_estado aponta para o fato que a maior parte da base de usuários não se encontra em capitais. Isso pode ser explicado pela alta capilaridade das Casas Bahia."
   ]
  },
  {
   "cell_type": "code",
   "execution_count": null,
   "id": "6dc807fd",
   "metadata": {},
   "outputs": [],
   "source": [
    "#flag_retido\n",
    "base_grafico = base['flag_retido'].value_counts()\n",
    "fig = go.Figure([go.Bar(x = [str(val) for val in base_grafico.index], y = base_grafico.values)])\n",
    "fig.update_layout(title = 'Distribuição da flag_retido', template = 'plotly_white')\n",
    "fig.show()"
   ]
  },
  {
   "cell_type": "markdown",
   "id": "d4d31cd4",
   "metadata": {},
   "source": [
    "Quanto ao nosso target, vemos que a maior parte dos usuários não se enquadra no cenário de sucesso, com uma proporção aproximada de 1:2 entre os dois resultados possíveis. Nesse caso, não temos um problema tão desbalanceado ao ponto de exigir a implementação de estratégias de compensação. "
   ]
  },
  {
   "cell_type": "markdown",
   "id": "7b5fe579",
   "metadata": {},
   "source": [
    "# 3. Definição de retenção"
   ]
  },
  {
   "cell_type": "code",
   "execution_count": null,
   "id": "11b19521",
   "metadata": {},
   "outputs": [],
   "source": [
    "#Carregar e agregar dados de tempo de atividade\n",
    "aux = pd.read_csv('base_target_final.csv')\n",
    "aux = aux.groupby(by = 'meses_ativo').nunique()\n",
    "aux.columns = ['usuarios']\n",
    "\n",
    "aux.sort_index(ascending = False, inplace = True)\n",
    "aux['usuarios_acumulado'] = aux['usuarios'].cumsum()"
   ]
  },
  {
   "cell_type": "code",
   "execution_count": null,
   "id": "4cb55c9b",
   "metadata": {},
   "outputs": [],
   "source": [
    "aux"
   ]
  },
  {
   "cell_type": "code",
   "execution_count": null,
   "id": "8858c07c",
   "metadata": {},
   "outputs": [],
   "source": [
    "#PLotar funil de atividade\n",
    "fig = go.Figure([go.Bar(x = aux.index, y = aux['usuarios_acumulado'])])\n",
    "fig.show()"
   ]
  },
  {
   "cell_type": "markdown",
   "id": "ade3cbd9",
   "metadata": {},
   "source": [
    "# 4. Explorar Correlação Entre Campos"
   ]
  },
  {
   "cell_type": "markdown",
   "id": "e1abb61b",
   "metadata": {},
   "source": [
    "## 4.1. Campos Numéricos"
   ]
  },
  {
   "cell_type": "code",
   "execution_count": null,
   "id": "18f9eb0d",
   "metadata": {},
   "outputs": [],
   "source": [
    "#Calcular correlação entre atributos\n",
    "matriz_correlacao = base.corr()\n",
    "matriz_correlacao.drop(columns = ['id_usuario', 'flag_retido'], inplace = True)\n",
    "matriz_correlacao.drop(index = ['id_usuario', 'flag_retido'], inplace = True)\n",
    "\n",
    "nomes = [' Valor 1 ', ' Valor 2 ', ' Dias Entre Transações ', ' Flag Capital do Estado ', ' Dias Até Primeira Transação ']\n",
    "matriz_correlacao.columns = nomes\n",
    "matriz_correlacao.index = nomes\n",
    "\n",
    "fig = go.Figure([go.Heatmap(x = matriz_correlacao.index, y = matriz_correlacao.columns, \n",
    "                            z = matriz_correlacao, colorscale = 'Bluered')])\n",
    "fig.update_xaxes(tickangle = 90)\n",
    "fig.update_layout(height = 600, width = 600)\n",
    "fig.show()"
   ]
  },
  {
   "cell_type": "markdown",
   "id": "1e77bd06",
   "metadata": {},
   "source": [
    "Avaliando exclusivamente os atributos numéricos entre si, vemos que apenas os campos de valor financeiro têm alguma correlação. Ainda assim, os valores não são tão altos que possam sugerir a necessidade de remover ou combinar campos."
   ]
  },
  {
   "cell_type": "code",
   "execution_count": null,
   "id": "103f9079",
   "metadata": {},
   "outputs": [],
   "source": [
    "#Calcular correlação dos atributos ao target\n",
    "matriz_correlacao = base.corr()['flag_retido'].sort_values()\n",
    "matriz_correlacao.drop(index = 'flag_retido', inplace = True)\n",
    "\n",
    "fig = go.Figure([go.Bar(y = matriz_correlacao.index, x = matriz_correlacao.values, orientation = 'h')])\n",
    "fig.update_yaxes(showgrid = False, tickformat = '###.###', ticksuffix = '   ')\n",
    "fig.update_xaxes(title = 'Coeficiente de correlação Pearson', showgrid = False, showline = True, range = [0, 0.5])\n",
    "fig.update_layout(template = 'plotly_white', showlegend = False,  \n",
    "                  font = {'family': 'Arial', 'color': '#7c7c7d', 'size': 15})\n",
    "\n",
    "fig.show()"
   ]
  },
  {
   "cell_type": "markdown",
   "id": "724bac68",
   "metadata": {},
   "source": [
    "A correlação direta dos atributos numéricos com o nosso alvo é bem pequena."
   ]
  },
  {
   "cell_type": "markdown",
   "id": "a531c83e",
   "metadata": {},
   "source": [
    "## 4.2. Campos Categóricos"
   ]
  },
  {
   "cell_type": "code",
   "execution_count": null,
   "id": "59f64c32",
   "metadata": {},
   "outputs": [],
   "source": [
    "#Definir função para gerar gráfico de distribuição do target como função de um campo categórico\n",
    "def agrupar_target(base, target, coluna):\n",
    "    base_grafico = base.groupby(by = coluna).agg({target: ['count', 'sum']})\n",
    "    base_grafico.columns = ['total', 'sucesso']\n",
    "    base_grafico['fracasso'] = 100 * (base_grafico['total'] - base_grafico['sucesso']) / base_grafico['total']\n",
    "    base_grafico['sucesso'] = 100 * base_grafico['sucesso'] / base_grafico['total']\n",
    "    \n",
    "    fig = go.Figure()\n",
    "    for resultado in ['sucesso', 'fracasso']:\n",
    "        fig.add_trace(go.Bar(x= base_grafico.index, y = base_grafico[resultado], name = resultado))\n",
    "    fig.update_layout(title = 'Distribuição do Target por {}'.format(coluna), template = 'plotly_white', barmode = 'stack')\n",
    "    \n",
    "    return fig.show()"
   ]
  },
  {
   "cell_type": "code",
   "execution_count": null,
   "id": "ed501c9c",
   "metadata": {},
   "outputs": [],
   "source": [
    "#faixa_idade\n",
    "agrupar_target(base, 'flag_retido', 'faixa_idade')"
   ]
  },
  {
   "cell_type": "code",
   "execution_count": null,
   "id": "996bbf4d",
   "metadata": {},
   "outputs": [],
   "source": [
    "#grupo_transacao_1\n",
    "agrupar_target(base, 'flag_retido', 'grupo_transacao_1')"
   ]
  },
  {
   "cell_type": "code",
   "execution_count": null,
   "id": "c0fa598f",
   "metadata": {},
   "outputs": [],
   "source": [
    "#grupo_transacao_2\n",
    "agrupar_target(base, 'flag_retido', 'grupo_transacao_2')"
   ]
  },
  {
   "cell_type": "code",
   "execution_count": null,
   "id": "a96b35b0",
   "metadata": {},
   "outputs": [],
   "source": [
    "#tipo_transacao_anonimo_1\n",
    "agrupar_target(base, 'flag_retido', 'tipo_transacao_anonimo_1')"
   ]
  },
  {
   "cell_type": "code",
   "execution_count": null,
   "id": "5a5b19f0",
   "metadata": {},
   "outputs": [],
   "source": [
    "#tipo_transacao_anonimo_2\n",
    "agrupar_target(base, 'flag_retido', 'tipo_transacao_anonimo_2')"
   ]
  },
  {
   "cell_type": "code",
   "execution_count": null,
   "id": "f7b4ff00",
   "metadata": {},
   "outputs": [],
   "source": [
    "#estado_anonimo\n",
    "agrupar_target(base, 'flag_retido', 'estado_anonimo')"
   ]
  },
  {
   "cell_type": "code",
   "execution_count": null,
   "id": "66ace8a9",
   "metadata": {},
   "outputs": [],
   "source": [
    "#estado_anonimo\n",
    "agrupar_target(base, 'flag_retido', 'genero')"
   ]
  },
  {
   "cell_type": "code",
   "execution_count": null,
   "id": "4dec4318",
   "metadata": {},
   "outputs": [],
   "source": [
    "#faixa_dias_ate_primeira_transacao\n",
    "agrupar_target(base, 'flag_retido', 'faixa_dias_ate_primeira_transacao')"
   ]
  },
  {
   "cell_type": "code",
   "execution_count": null,
   "id": "6ad90193",
   "metadata": {},
   "outputs": [],
   "source": [
    "#faixa_dias_entre_transacoes\n",
    "agrupar_target(base, 'flag_retido', 'faixa_dias_entre_transacoes')"
   ]
  },
  {
   "cell_type": "markdown",
   "id": "d6a15fef",
   "metadata": {},
   "source": [
    "Conclusões Iniciais:\n",
    "\n",
    "* A correlação entre os atributos numéricos é, de maneira geral, bem fraca. A única exceção é o par de campos valor_1 e valor_2;\n",
    "* Quanto à correlação dos atributos numéricos com o campo-alvo, também vemos pouca força no relacionamento direto;\n",
    "* Para os campos dias_ate_primeira_transacao e dias_entre_transacoes, a comparação entre o atributo original e sua versão agrupada aponta que o segundo parece ter melhor correlação com o alvo que o primeiro;\n",
    "* No caso dos campos categóricos, investigamos a proporção de sucessos e fracassos para os diferentes valores categóricos. De forma geral, a maior parte dos atributos parece apresentar certo relacionamento com o alvo. Aqui, a principal exceção é o campo genero."
   ]
  },
  {
   "cell_type": "code",
   "execution_count": null,
   "id": "db93ca1b",
   "metadata": {},
   "outputs": [],
   "source": [
    "#Remover campos dias_ate_primeira_transacao e dias_entre_transacoes\n",
    "base.drop(columns = ['dias_ate_primeira_transacao', 'dias_entre_transacoes'], inplace = True, errors = 'ignore')\n",
    "\n",
    "#Remover campos data_transacao_1, data_transacao_2 e data_criacao_conta\n",
    "base.drop(columns = ['data_transacao_1', 'data_transacao_2', 'data_criacao_conta'], inplace = True, errors = 'ignore')"
   ]
  },
  {
   "cell_type": "markdown",
   "id": "0f36a8c8",
   "metadata": {},
   "source": [
    "# 4. Pré-Processamento dos Dados"
   ]
  },
  {
   "cell_type": "markdown",
   "id": "dacd6fe1",
   "metadata": {},
   "source": [
    "Após uma exploração dos dados e filtragem inicial de atributos, vamos partir para uma seleção de campos mais fundamentada nos métodos de predição. No entanto, antes de iniciarmos isso, vamos aplicar algumas etapas de pré-processamento nos dados. Basicamente, as duas operações que vamos realizar são:\n",
    "\n",
    "* Padronização da escala dos campos de valor financeiro;\n",
    "* Transformar atributos categóricos em campos binários."
   ]
  },
  {
   "cell_type": "markdown",
   "id": "7067d228",
   "metadata": {},
   "source": [
    "## Normalizar Escala dos Atributos de Valor Financeiro"
   ]
  },
  {
   "cell_type": "code",
   "execution_count": null,
   "id": "0e4b615f",
   "metadata": {},
   "outputs": [],
   "source": [
    "#Aplicar scaling a valor_1 e valor_2\n",
    "scaler = StandardScaler()\n",
    "scaler.fit(np.array(list(base['valor_1'].values) + list(base['valor_1'].values)).reshape(-1,1))\n",
    "\n",
    "base['valor_1_normalizado'] = scaler.transform(base['valor_1'].values.reshape(-1,1))\n",
    "base['valor_2_normalizado'] = scaler.transform(base['valor_2'].values.reshape(-1,1))"
   ]
  },
  {
   "cell_type": "code",
   "execution_count": null,
   "id": "340610cd",
   "metadata": {},
   "outputs": [],
   "source": [
    "#Remover atributos originais\n",
    "base.drop(columns = ['valor_1', 'valor_2'], inplace = True)"
   ]
  },
  {
   "cell_type": "markdown",
   "id": "bf5241a5",
   "metadata": {},
   "source": [
    "## Transformar Atributos Categóricos em Binários"
   ]
  },
  {
   "cell_type": "code",
   "execution_count": null,
   "id": "4f11c807",
   "metadata": {},
   "outputs": [],
   "source": [
    "#Definir função para transformar atributos categóricos em binários\n",
    "def cat_para_binario(base, coluna, remover_primeiro = False):\n",
    "    base = pd.concat(\n",
    "        [base, pd.get_dummies(data = base[coluna], prefix = coluna, prefix_sep = ':', drop_first = remover_primeiro)],\n",
    "        axis = 1)\n",
    "    base = base.drop(columns = coluna)\n",
    "    return base"
   ]
  },
  {
   "cell_type": "code",
   "execution_count": null,
   "id": "45f65e78",
   "metadata": {},
   "outputs": [],
   "source": [
    "#Transformar atributos em binários\n",
    "atributos_1 = ['tipo_transacao_anonimo_1', 'tipo_transacao_anonimo_2', 'estado_anonimo', 'faixa_idade', \n",
    "               'faixa_dias_ate_primeira_transacao', 'faixa_dias_entre_transacoes']\n",
    "atributos_2 = ['grupo_transacao_1', 'grupo_transacao_2', 'genero']\n",
    "\n",
    "for atributo in atributos_1:\n",
    "    base = cat_para_binario(base, atributo, False)\n",
    "    \n",
    "for atributo in atributos_2:\n",
    "    base = cat_para_binario(base, atributo, True)"
   ]
  },
  {
   "cell_type": "code",
   "execution_count": null,
   "id": "41724485",
   "metadata": {},
   "outputs": [],
   "source": [
    "#Salvar base em arquivo\n",
    "base.to_csv('base_para_modelo.csv', index = False)"
   ]
  }
 ],
 "metadata": {
  "kernelspec": {
   "display_name": "Python 3",
   "language": "python",
   "name": "python3"
  },
  "language_info": {
   "codemirror_mode": {
    "name": "ipython",
    "version": 3
   },
   "file_extension": ".py",
   "mimetype": "text/x-python",
   "name": "python",
   "nbconvert_exporter": "python",
   "pygments_lexer": "ipython3",
   "version": "3.9.5"
  }
 },
 "nbformat": 4,
 "nbformat_minor": 5
}
