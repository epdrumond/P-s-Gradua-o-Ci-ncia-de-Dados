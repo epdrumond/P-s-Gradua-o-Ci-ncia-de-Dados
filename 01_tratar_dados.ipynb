{
 "cells": [
  {
   "cell_type": "markdown",
   "id": "f986e11f",
   "metadata": {},
   "source": [
    "# 1. Importar Bibliotecas"
   ]
  },
  {
   "cell_type": "code",
   "execution_count": 19,
   "id": "4e38540a",
   "metadata": {},
   "outputs": [],
   "source": [
    "#Importar bibliotecas\n",
    "import pandas as pd\n",
    "import numpy as np"
   ]
  },
  {
   "cell_type": "markdown",
   "id": "80ec2e6b",
   "metadata": {},
   "source": [
    "# 2. Carregar Dados e Tratamento Inicial"
   ]
  },
  {
   "cell_type": "code",
   "execution_count": 20,
   "id": "489253ac",
   "metadata": {},
   "outputs": [],
   "source": [
    "#Carregar dados\n",
    "base_usuarios = pd.read_csv('base_usuarios_final.csv')\n",
    "base_transacoes = pd.read_csv('base_transacoes_final.csv')"
   ]
  },
  {
   "cell_type": "markdown",
   "id": "ff5afefb",
   "metadata": {},
   "source": [
    "## 2.1. Base Usuários"
   ]
  },
  {
   "cell_type": "code",
   "execution_count": 21,
   "id": "0127dd1d",
   "metadata": {},
   "outputs": [
    {
     "data": {
      "text/plain": [
       "user_id             0.000000\n",
       "createdAt           0.000000\n",
       "state_anom          0.000000\n",
       "is_state_capital    0.000000\n",
       "age_range           0.000000\n",
       "gender              2.687274\n",
       "dtype: float64"
      ]
     },
     "execution_count": 21,
     "metadata": {},
     "output_type": "execute_result"
    }
   ],
   "source": [
    "#Checar nulos\n",
    "100 * base_usuarios.isnull().sum() / len(base_usuarios)"
   ]
  },
  {
   "cell_type": "markdown",
   "id": "a1058e41",
   "metadata": {},
   "source": [
    "Dado o tamanho da base e o pequeno percentual de registros com valores nulos, vamos adotar a simples ação de remover os registros em questão."
   ]
  },
  {
   "cell_type": "code",
   "execution_count": 22,
   "id": "e3322226",
   "metadata": {},
   "outputs": [],
   "source": [
    "#Remover registros com campos nulo\n",
    "base_usuarios.dropna(inplace = True)"
   ]
  },
  {
   "cell_type": "code",
   "execution_count": 23,
   "id": "c8c857dd",
   "metadata": {},
   "outputs": [
    {
     "data": {
      "text/plain": [
       "user_id              int64\n",
       "createdAt           object\n",
       "state_anom          object\n",
       "is_state_capital     int64\n",
       "age_range           object\n",
       "gender              object\n",
       "dtype: object"
      ]
     },
     "execution_count": 23,
     "metadata": {},
     "output_type": "execute_result"
    }
   ],
   "source": [
    "#Verificar tipos dos campos\n",
    "base_usuarios.dtypes"
   ]
  },
  {
   "cell_type": "code",
   "execution_count": 24,
   "id": "ddb9bfc8",
   "metadata": {},
   "outputs": [],
   "source": [
    "#Tratar campo de data / remover informações de horário\n",
    "base_usuarios['createdAt'] = [np.datetime64(data[:10]) for data in base_usuarios['createdAt']]"
   ]
  },
  {
   "cell_type": "code",
   "execution_count": 25,
   "id": "51461c0a",
   "metadata": {},
   "outputs": [],
   "source": [
    "#Renomear colunas\n",
    "novas_colunas = {\n",
    "    'user_id': 'id_usuario', \n",
    "    'createdAt': 'data_criacao_conta',\n",
    "    'state_anom': 'estado_anonimo',\n",
    "    'is_state_capital': 'flag_capital_do_estado',\n",
    "    'age_range': 'faixa_idade',\n",
    "    'gender': 'genero'}\n",
    "\n",
    "base_usuarios.rename(columns = novas_colunas, inplace = True)"
   ]
  },
  {
   "cell_type": "markdown",
   "id": "62724a51",
   "metadata": {},
   "source": [
    "## 2.2. Base Transações"
   ]
  },
  {
   "cell_type": "code",
   "execution_count": 26,
   "id": "d627be51",
   "metadata": {},
   "outputs": [
    {
     "data": {
      "text/plain": [
       "createdat               0.000000\n",
       "ordem_transacao         0.000000\n",
       "type                    0.000000\n",
       "transactiontype_anom    0.000000\n",
       "amount_anom             0.006143\n",
       "user_id                 0.000000\n",
       "dtype: float64"
      ]
     },
     "execution_count": 26,
     "metadata": {},
     "output_type": "execute_result"
    }
   ],
   "source": [
    "#Checar nulos\n",
    "100 * base_transacoes.isnull().sum() / len(base_usuarios)"
   ]
  },
  {
   "cell_type": "code",
   "execution_count": 27,
   "id": "32ed0324",
   "metadata": {},
   "outputs": [
    {
     "data": {
      "text/plain": [
       "826294"
      ]
     },
     "execution_count": 27,
     "metadata": {},
     "output_type": "execute_result"
    }
   ],
   "source": [
    "len(base_transacoes)"
   ]
  },
  {
   "cell_type": "code",
   "execution_count": 28,
   "id": "96a1e78e",
   "metadata": {},
   "outputs": [
    {
     "data": {
      "text/plain": [
       "createdat                0\n",
       "ordem_transacao          0\n",
       "type                     0\n",
       "transactiontype_anom     0\n",
       "amount_anom             55\n",
       "user_id                  0\n",
       "dtype: int64"
      ]
     },
     "execution_count": 28,
     "metadata": {},
     "output_type": "execute_result"
    }
   ],
   "source": [
    "base_transacoes.isnull().sum()"
   ]
  },
  {
   "cell_type": "code",
   "execution_count": 29,
   "id": "a10e7a30",
   "metadata": {},
   "outputs": [],
   "source": [
    "#Remover registros com campos nulo\n",
    "base_transacoes.dropna(inplace = True)"
   ]
  },
  {
   "cell_type": "code",
   "execution_count": 30,
   "id": "1b314569",
   "metadata": {},
   "outputs": [
    {
     "data": {
      "text/plain": [
       "createdat                object\n",
       "ordem_transacao           int64\n",
       "type                     object\n",
       "transactiontype_anom     object\n",
       "amount_anom             float64\n",
       "user_id                   int64\n",
       "dtype: object"
      ]
     },
     "execution_count": 30,
     "metadata": {},
     "output_type": "execute_result"
    }
   ],
   "source": [
    "#Verificar tipos dos campos\n",
    "base_transacoes.dtypes"
   ]
  },
  {
   "cell_type": "code",
   "execution_count": 31,
   "id": "87fea27f",
   "metadata": {},
   "outputs": [],
   "source": [
    "#Tratar campo de data\n",
    "base_transacoes['createdat'] = [np.datetime64(data) for data in base_transacoes['createdat']]"
   ]
  },
  {
   "cell_type": "code",
   "execution_count": 32,
   "id": "52f7ab79",
   "metadata": {},
   "outputs": [],
   "source": [
    "#Renomear colunas\n",
    "novas_colunas = {\n",
    "    'createdat': 'data_transacao',\n",
    "    'type': 'grupo_transacao',\n",
    "    'transactiontype_anom': 'tipo_transacao_anonimo',\n",
    "    'amount_anom': 'valor',\n",
    "    'user_id': 'id_usuario'}\n",
    "\n",
    "base_transacoes.rename(columns = novas_colunas, inplace = True)"
   ]
  },
  {
   "cell_type": "markdown",
   "id": "ffe764a9",
   "metadata": {},
   "source": [
    "# 3. Tratamento dos Dados"
   ]
  },
  {
   "cell_type": "markdown",
   "id": "5d25c743",
   "metadata": {},
   "source": [
    "## 3.1. Consolidação dos Dados de Transações"
   ]
  },
  {
   "cell_type": "markdown",
   "id": "cd680d46",
   "metadata": {},
   "source": [
    "A base de transações contém todas as 2 primeiras transações dos usuários. O primeiro passo na nossa análise é consolidar os dois registros em um só, de forma a ter um entendimento melhor do comportamento inicial do usuário."
   ]
  },
  {
   "cell_type": "code",
   "execution_count": 33,
   "id": "5d728423",
   "metadata": {},
   "outputs": [],
   "source": [
    "#Criar campo de ordenação das transações\n",
    "base_transacoes['ordem_transacao'] = base_transacoes.groupby(by = 'id_usuario').cumcount() + 1"
   ]
  },
  {
   "cell_type": "code",
   "execution_count": 34,
   "id": "51ee8862",
   "metadata": {},
   "outputs": [],
   "source": [
    "#Consolidar dados\n",
    "base_transacoes = base_transacoes[base_transacoes['ordem_transacao'] == 1].join(\n",
    "    on = 'id_usuario',\n",
    "    other = base_transacoes[base_transacoes['ordem_transacao'] == 2].set_index('id_usuario'),\n",
    "    rsuffix = '_2')"
   ]
  },
  {
   "cell_type": "code",
   "execution_count": 35,
   "id": "73b4ea8e",
   "metadata": {},
   "outputs": [],
   "source": [
    "#Renomear colunas relativas à primeira transação\n",
    "novas_colunas = {\n",
    "    'data_transacao': 'data_transacao_1',\n",
    "    'grupo_transacao': 'grupo_transacao_1',\n",
    "    'tipo_transacao_anonimo': 'tipo_transacao_anonimo_1',\n",
    "    'valor': 'valor_1'}\n",
    "\n",
    "base_transacoes.rename(columns = novas_colunas, inplace = True)"
   ]
  },
  {
   "cell_type": "code",
   "execution_count": 36,
   "id": "81685c77",
   "metadata": {},
   "outputs": [
    {
     "data": {
      "text/plain": [
       "432025"
      ]
     },
     "execution_count": 36,
     "metadata": {},
     "output_type": "execute_result"
    }
   ],
   "source": [
    "len(base_transacoes)"
   ]
  },
  {
   "cell_type": "code",
   "execution_count": 37,
   "id": "c74028fd",
   "metadata": {},
   "outputs": [],
   "source": [
    "#Remover campos ordem_transacao\n",
    "base_transacoes.drop(columns = ['ordem_transacao', 'ordem_transacao_2'], inplace = True)"
   ]
  },
  {
   "cell_type": "code",
   "execution_count": 38,
   "id": "cb10710b",
   "metadata": {},
   "outputs": [],
   "source": [
    "#Criar campo calculado dias_entre_transacoes\n",
    "for col in ['data_transacao_1', 'data_transacao_2']:\n",
    "    base_transacoes[col] = [np.datetime64(str(data)[:10]) for data in base_transacoes[col]]\n",
    "    \n",
    "base_transacoes['dias_entre_transacoes'] = [(tx_2 - tx_1) / np.timedelta64(1, 'D') for tx_2, tx_1 in \n",
    "                                            zip(base_transacoes['data_transacao_2'], base_transacoes['data_transacao_1'])]"
   ]
  },
  {
   "cell_type": "code",
   "execution_count": 39,
   "id": "e4b4291d",
   "metadata": {},
   "outputs": [],
   "source": [
    "#Criar compo saldo_restante\n",
    "saldo_1 = [valor if grupo == 'cashin' else - valor for valor, grupo \n",
    "           in zip(base_transacoes['valor_1'], base_transacoes['grupo_transacao_1'])]\n",
    "saldo_2 = [valor if grupo == 'cashin' else - valor for valor, grupo \n",
    "           in zip(base_transacoes['valor_2'], base_transacoes['grupo_transacao_2'])]\n",
    "\n",
    "base_transacoes['saldo_restante'] = [val_1 + val_2 + 5 for val_1, val_2 in zip(saldo_1, saldo_2)]"
   ]
  },
  {
   "cell_type": "code",
   "execution_count": 40,
   "id": "25828c32",
   "metadata": {},
   "outputs": [
    {
     "name": "stdout",
     "output_type": "stream",
     "text": [
      "Percentual de registros com saldo restante negativo: 20.44%\n"
     ]
    }
   ],
   "source": [
    "print('Percentual de registros com saldo restante negativo: {:.2f}%'.format(\n",
    "    100 * len(base_transacoes[base_transacoes['saldo_restante'] < 0]) / len(base_transacoes)))"
   ]
  },
  {
   "cell_type": "markdown",
   "id": "556ee0be",
   "metadata": {},
   "source": [
    "Na criação do campo saldo_restante, somamos R$ 5 ao saldo final de todos os usuários por conta de um bônus que é aplicado aos usuários por conta de sua primeira transação.\n",
    "\n",
    "Adicionalmente, cerca de 20% dos registros apresentam o saldo em conta restante negativo, mesmo considerando o acréscimo do bônus. Isso decorre do fato que, no processo de anonimização dos dados, foi incluído certo nível de ruído nos valores dos campos. Com isso, não faz sentido realizar essa operação com os dois atributos, dado que os efeitos do ruído podem se cancelar ou somar. Ficamos então com a decisão de remover o campo da nossa análise."
   ]
  },
  {
   "cell_type": "code",
   "execution_count": 41,
   "id": "dc85b596",
   "metadata": {},
   "outputs": [],
   "source": [
    "#Remover campo saldo_restante\n",
    "base_transacoes.drop(columns = 'saldo_restante', inplace = True)"
   ]
  },
  {
   "cell_type": "markdown",
   "id": "0c2e2b02",
   "metadata": {},
   "source": [
    "## 3.2. Cruzar Dados de Usuários e Transações"
   ]
  },
  {
   "cell_type": "code",
   "execution_count": 42,
   "id": "a61ecf53",
   "metadata": {},
   "outputs": [],
   "source": [
    "#Cruzar dados das bases\n",
    "base_atividade = base_transacoes.join(on = 'id_usuario', other = base_usuarios.set_index('id_usuario')) "
   ]
  },
  {
   "cell_type": "code",
   "execution_count": 43,
   "id": "9da9bd80",
   "metadata": {},
   "outputs": [],
   "source": [
    "#Criar campo calculado dias_ate_primeira_transacao\n",
    "base_atividade['dias_ate_primeira_transacao'] = [(tx - conta) / np.timedelta64(1, 'D') for tx, conta in \n",
    "                                                 zip(base_atividade['data_transacao_1'], base_atividade['data_criacao_conta'])]"
   ]
  },
  {
   "cell_type": "code",
   "execution_count": 44,
   "id": "c5d589b6",
   "metadata": {},
   "outputs": [],
   "source": [
    "#Reordenar colunas\n",
    "colunas = list(base_atividade.columns)\n",
    "colunas.remove('id_usuario')\n",
    "colunas = ['id_usuario'] + colunas\n",
    "\n",
    "base_atividade = base_atividade[colunas] "
   ]
  },
  {
   "cell_type": "code",
   "execution_count": 45,
   "id": "5d188a58",
   "metadata": {},
   "outputs": [
    {
     "data": {
      "text/html": [
       "<div>\n",
       "<style scoped>\n",
       "    .dataframe tbody tr th:only-of-type {\n",
       "        vertical-align: middle;\n",
       "    }\n",
       "\n",
       "    .dataframe tbody tr th {\n",
       "        vertical-align: top;\n",
       "    }\n",
       "\n",
       "    .dataframe thead th {\n",
       "        text-align: right;\n",
       "    }\n",
       "</style>\n",
       "<table border=\"1\" class=\"dataframe\">\n",
       "  <thead>\n",
       "    <tr style=\"text-align: right;\">\n",
       "      <th></th>\n",
       "      <th>id_usuario</th>\n",
       "      <th>data_transacao_1</th>\n",
       "      <th>grupo_transacao_1</th>\n",
       "      <th>tipo_transacao_anonimo_1</th>\n",
       "      <th>valor_1</th>\n",
       "      <th>data_transacao_2</th>\n",
       "      <th>grupo_transacao_2</th>\n",
       "      <th>tipo_transacao_anonimo_2</th>\n",
       "      <th>valor_2</th>\n",
       "      <th>dias_entre_transacoes</th>\n",
       "      <th>data_criacao_conta</th>\n",
       "      <th>estado_anonimo</th>\n",
       "      <th>flag_capital_do_estado</th>\n",
       "      <th>faixa_idade</th>\n",
       "      <th>genero</th>\n",
       "      <th>dias_ate_primeira_transacao</th>\n",
       "    </tr>\n",
       "  </thead>\n",
       "  <tbody>\n",
       "    <tr>\n",
       "      <th>0</th>\n",
       "      <td>1126540</td>\n",
       "      <td>2020-10-04</td>\n",
       "      <td>cashin</td>\n",
       "      <td>cashin_02</td>\n",
       "      <td>9.353113</td>\n",
       "      <td>2020-10-25</td>\n",
       "      <td>cashout</td>\n",
       "      <td>cashout_00</td>\n",
       "      <td>12.959309</td>\n",
       "      <td>21.0</td>\n",
       "      <td>2020-10-03</td>\n",
       "      <td>estado_08</td>\n",
       "      <td>1.0</td>\n",
       "      <td>age_range_02</td>\n",
       "      <td>F</td>\n",
       "      <td>1.0</td>\n",
       "    </tr>\n",
       "    <tr>\n",
       "      <th>2</th>\n",
       "      <td>754306</td>\n",
       "      <td>2021-01-28</td>\n",
       "      <td>cashin</td>\n",
       "      <td>cashin_01</td>\n",
       "      <td>521.769527</td>\n",
       "      <td>2021-01-28</td>\n",
       "      <td>cashin</td>\n",
       "      <td>cashin_01</td>\n",
       "      <td>9.681419</td>\n",
       "      <td>0.0</td>\n",
       "      <td>2020-08-04</td>\n",
       "      <td>estado_15</td>\n",
       "      <td>0.0</td>\n",
       "      <td>age_range_05</td>\n",
       "      <td>F</td>\n",
       "      <td>177.0</td>\n",
       "    </tr>\n",
       "    <tr>\n",
       "      <th>4</th>\n",
       "      <td>956433</td>\n",
       "      <td>2020-09-10</td>\n",
       "      <td>cashin</td>\n",
       "      <td>cashin_01</td>\n",
       "      <td>21.716756</td>\n",
       "      <td>2020-09-10</td>\n",
       "      <td>cashout</td>\n",
       "      <td>cashout_01</td>\n",
       "      <td>21.227847</td>\n",
       "      <td>0.0</td>\n",
       "      <td>2020-09-10</td>\n",
       "      <td>estado_02</td>\n",
       "      <td>0.0</td>\n",
       "      <td>age_range_01</td>\n",
       "      <td>F</td>\n",
       "      <td>0.0</td>\n",
       "    </tr>\n",
       "    <tr>\n",
       "      <th>6</th>\n",
       "      <td>1235453</td>\n",
       "      <td>2020-11-27</td>\n",
       "      <td>cashin</td>\n",
       "      <td>cashin_01</td>\n",
       "      <td>232.586991</td>\n",
       "      <td>2020-11-27</td>\n",
       "      <td>cashout</td>\n",
       "      <td>cashout_02</td>\n",
       "      <td>194.670591</td>\n",
       "      <td>0.0</td>\n",
       "      <td>2020-10-17</td>\n",
       "      <td>estado_02</td>\n",
       "      <td>0.0</td>\n",
       "      <td>age_range_04</td>\n",
       "      <td>F</td>\n",
       "      <td>41.0</td>\n",
       "    </tr>\n",
       "    <tr>\n",
       "      <th>8</th>\n",
       "      <td>1108066</td>\n",
       "      <td>2020-10-01</td>\n",
       "      <td>cashin</td>\n",
       "      <td>cashin_01</td>\n",
       "      <td>159.221182</td>\n",
       "      <td>2020-10-01</td>\n",
       "      <td>cashout</td>\n",
       "      <td>cashout_03</td>\n",
       "      <td>178.372101</td>\n",
       "      <td>0.0</td>\n",
       "      <td>2020-10-01</td>\n",
       "      <td>estado_00</td>\n",
       "      <td>0.0</td>\n",
       "      <td>age_range_05</td>\n",
       "      <td>M</td>\n",
       "      <td>0.0</td>\n",
       "    </tr>\n",
       "  </tbody>\n",
       "</table>\n",
       "</div>"
      ],
      "text/plain": [
       "   id_usuario data_transacao_1 grupo_transacao_1 tipo_transacao_anonimo_1  \\\n",
       "0     1126540       2020-10-04            cashin                cashin_02   \n",
       "2      754306       2021-01-28            cashin                cashin_01   \n",
       "4      956433       2020-09-10            cashin                cashin_01   \n",
       "6     1235453       2020-11-27            cashin                cashin_01   \n",
       "8     1108066       2020-10-01            cashin                cashin_01   \n",
       "\n",
       "      valor_1 data_transacao_2 grupo_transacao_2 tipo_transacao_anonimo_2  \\\n",
       "0    9.353113       2020-10-25           cashout               cashout_00   \n",
       "2  521.769527       2021-01-28            cashin                cashin_01   \n",
       "4   21.716756       2020-09-10           cashout               cashout_01   \n",
       "6  232.586991       2020-11-27           cashout               cashout_02   \n",
       "8  159.221182       2020-10-01           cashout               cashout_03   \n",
       "\n",
       "      valor_2  dias_entre_transacoes data_criacao_conta estado_anonimo  \\\n",
       "0   12.959309                   21.0         2020-10-03      estado_08   \n",
       "2    9.681419                    0.0         2020-08-04      estado_15   \n",
       "4   21.227847                    0.0         2020-09-10      estado_02   \n",
       "6  194.670591                    0.0         2020-10-17      estado_02   \n",
       "8  178.372101                    0.0         2020-10-01      estado_00   \n",
       "\n",
       "   flag_capital_do_estado   faixa_idade genero  dias_ate_primeira_transacao  \n",
       "0                     1.0  age_range_02      F                          1.0  \n",
       "2                     0.0  age_range_05      F                        177.0  \n",
       "4                     0.0  age_range_01      F                          0.0  \n",
       "6                     0.0  age_range_04      F                         41.0  \n",
       "8                     0.0  age_range_05      M                          0.0  "
      ]
     },
     "execution_count": 45,
     "metadata": {},
     "output_type": "execute_result"
    }
   ],
   "source": [
    "base_atividade.head()"
   ]
  },
  {
   "cell_type": "code",
   "execution_count": 25,
   "id": "bf54ef6f",
   "metadata": {},
   "outputs": [],
   "source": [
    "#Consolidar dados com target\n",
    "base_target = pd.read_csv('base_target_final.csv')\n",
    "base_target['flag_retido'] = [1 if mes >=4 else 0 for mes in base_target['meses_ativo']]\n",
    "\n",
    "base_atividade = base_atividade.join(on = 'id_usuario', other = base_target.set_index('user_id')['flag_retido'])"
   ]
  },
  {
   "cell_type": "markdown",
   "id": "a0320c4e",
   "metadata": {},
   "source": [
    "## 3.3. Tratamento Adicional dos Dados\n",
    "\n",
    "Com o cruzamento das duas fontes de dados, é possível que algum tratamento final seja necessário nos dados. Vamos agora verificar essa possibilidade."
   ]
  },
  {
   "cell_type": "code",
   "execution_count": 46,
   "id": "0792289e",
   "metadata": {},
   "outputs": [
    {
     "data": {
      "text/plain": [
       "id_usuario                     0.000000\n",
       "data_transacao_1               0.000000\n",
       "grupo_transacao_1              0.000000\n",
       "tipo_transacao_anonimo_1       0.000000\n",
       "valor_1                        0.000000\n",
       "data_transacao_2               8.752040\n",
       "grupo_transacao_2              8.752040\n",
       "tipo_transacao_anonimo_2       8.752040\n",
       "valor_2                        8.752040\n",
       "dias_entre_transacoes          8.752040\n",
       "data_criacao_conta             2.566518\n",
       "estado_anonimo                 2.566518\n",
       "flag_capital_do_estado         2.566518\n",
       "faixa_idade                    2.566518\n",
       "genero                         2.566518\n",
       "dias_ate_primeira_transacao    2.566518\n",
       "dtype: float64"
      ]
     },
     "execution_count": 46,
     "metadata": {},
     "output_type": "execute_result"
    }
   ],
   "source": [
    "#Verificar existência de registros nulos na base consolidada\n",
    "nulos = base_atividade.isnull().sum()\n",
    "100 * nulos / len(base_atividade)"
   ]
  },
  {
   "cell_type": "code",
   "execution_count": 48,
   "id": "f5560afc",
   "metadata": {},
   "outputs": [
    {
     "data": {
      "text/plain": [
       "432025"
      ]
     },
     "execution_count": 48,
     "metadata": {},
     "output_type": "execute_result"
    }
   ],
   "source": [
    "len(base_atividade)"
   ]
  },
  {
   "cell_type": "code",
   "execution_count": 47,
   "id": "bcdd127d",
   "metadata": {},
   "outputs": [
    {
     "data": {
      "text/plain": [
       "id_usuario                         0\n",
       "data_transacao_1                   0\n",
       "grupo_transacao_1                  0\n",
       "tipo_transacao_anonimo_1           0\n",
       "valor_1                            0\n",
       "data_transacao_2               37811\n",
       "grupo_transacao_2              37811\n",
       "tipo_transacao_anonimo_2       37811\n",
       "valor_2                        37811\n",
       "dias_entre_transacoes          37811\n",
       "data_criacao_conta             11088\n",
       "estado_anonimo                 11088\n",
       "flag_capital_do_estado         11088\n",
       "faixa_idade                    11088\n",
       "genero                         11088\n",
       "dias_ate_primeira_transacao    11088\n",
       "dtype: int64"
      ]
     },
     "execution_count": 47,
     "metadata": {},
     "output_type": "execute_result"
    }
   ],
   "source": [
    "nulos"
   ]
  },
  {
   "cell_type": "markdown",
   "id": "8baca58a",
   "metadata": {},
   "source": [
    "O que percebemos aqui são uma série de campos com registros nulos. No entanto, olhando com mais atenção, podemos identificar que os campos com valores faltando derivam de duas fontes:\n",
    "\n",
    "* Dados da segunda transação dos usuários;\n",
    "* Dados cadastrais.\n",
    "\n",
    "No primeiro caso, a escolha é óbvia. Ainda que representem quase 10% de todos os registros da base, precisamos remover todos as linhas com valores nulos relacionados à segunda transação. Como queremos medir a probabilidade de retenção dos usuários, não há dúvida de que usuários que não chegaram sequer a fazer 2 operações não podem ser considerados retidos.\n",
    "\n",
    "No segundo caso, a opção mais simples é também a remoção, especialmente considerando a baixa representatividade no tamanho total da base de dados. Analisando o caso mais à fundo, relembramos que, na coleta dos dados cadastrais dos usuários, removemos todos aqueles clientes em situação irregular. De maneira mais clara, foram removidos todos os usuários bloqueados por suspeita/confirmação de fraude. A inexistência de dados para esses usuários é um indicativo de que estariam dentro dessa classificação. Assim, fica mais embasada a escolha pela deleção dos registros."
   ]
  },
  {
   "cell_type": "code",
   "execution_count": 49,
   "id": "90fbd3fb",
   "metadata": {},
   "outputs": [],
   "source": [
    "#Remover registros com dados nulos\n",
    "base_atividade.dropna(inplace = True)"
   ]
  },
  {
   "cell_type": "code",
   "execution_count": 50,
   "id": "fa487611",
   "metadata": {},
   "outputs": [
    {
     "data": {
      "text/plain": [
       "384112"
      ]
     },
     "execution_count": 50,
     "metadata": {},
     "output_type": "execute_result"
    }
   ],
   "source": [
    "len(base_atividade)"
   ]
  },
  {
   "cell_type": "code",
   "execution_count": 31,
   "id": "68a887bc",
   "metadata": {},
   "outputs": [],
   "source": [
    "#Salvar base de dados tratada\n",
    "base_atividade.to_csv('base_final.csv', index = False)"
   ]
  }
 ],
 "metadata": {
  "kernelspec": {
   "display_name": "Python 3",
   "language": "python",
   "name": "python3"
  },
  "language_info": {
   "codemirror_mode": {
    "name": "ipython",
    "version": 3
   },
   "file_extension": ".py",
   "mimetype": "text/x-python",
   "name": "python",
   "nbconvert_exporter": "python",
   "pygments_lexer": "ipython3",
   "version": "3.9.5"
  }
 },
 "nbformat": 4,
 "nbformat_minor": 5
}
